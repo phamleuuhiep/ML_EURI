{
 "cells": [
  {
   "cell_type": "code",
   "execution_count": 1,
   "id": "68f07094",
   "metadata": {
    "execution": {
     "iopub.execute_input": "2025-05-23T08:04:16.149816Z",
     "iopub.status.busy": "2025-05-23T08:04:16.149497Z",
     "iopub.status.idle": "2025-05-23T08:04:16.157688Z",
     "shell.execute_reply": "2025-05-23T08:04:16.157062Z"
    },
    "papermill": {
     "duration": 0.014568,
     "end_time": "2025-05-23T08:04:16.159383",
     "exception": false,
     "start_time": "2025-05-23T08:04:16.144815",
     "status": "completed"
    },
    "tags": []
   },
   "outputs": [],
   "source": [
    "PATH=\"/kaggle/input/twitter-and-reddit-sentimental-analysis-dataset\"\n",
    "CSV_TWITTER=\"Twitter_Data.csv\"\n",
    "CSV_REDDIT=\"Reddit_Data.csv\""
   ]
  },
  {
   "cell_type": "code",
   "execution_count": 2,
   "id": "5bca3565",
   "metadata": {
    "_kg_hide-input": false,
    "execution": {
     "iopub.execute_input": "2025-05-23T08:04:16.166007Z",
     "iopub.status.busy": "2025-05-23T08:04:16.165789Z",
     "iopub.status.idle": "2025-05-23T08:04:17.514421Z",
     "shell.execute_reply": "2025-05-23T08:04:17.513391Z"
    },
    "papermill": {
     "duration": 1.353915,
     "end_time": "2025-05-23T08:04:17.516306",
     "exception": false,
     "start_time": "2025-05-23T08:04:16.162391",
     "status": "completed"
    },
    "tags": []
   },
   "outputs": [
    {
     "name": "stdout",
     "output_type": "stream",
     "text": [
      "                                               clean_text  category\n",
      "0       when modi promised “minimum government maximum...      -1.0\n",
      "1       talk all the nonsense and continue all the dra...       0.0\n",
      "2       what did just say vote for modi  welcome bjp t...       1.0\n",
      "3       asking his supporters prefix chowkidar their n...       1.0\n",
      "4       answer who among these the most powerful world...       1.0\n",
      "...                                                   ...       ...\n",
      "162975  why these 456 crores paid neerav modi not reco...      -1.0\n",
      "162976  dear rss terrorist payal gawar what about modi...      -1.0\n",
      "162977  did you cover her interaction forum where she ...       0.0\n",
      "162978  there big project came into india modi dream p...       0.0\n",
      "162979  have you ever listen about like gurukul where ...       1.0\n",
      "\n",
      "[162980 rows x 2 columns]\n"
     ]
    }
   ],
   "source": [
    "import pandas as pd\n",
    "\n",
    "try:\n",
    "    DATA_TWITTER=pd.read_csv(f'{PATH}/{CSV_TWITTER}')\n",
    "    print(DATA_TWITTER)\n",
    "except FileNotFoundError:\n",
    "    print(f'file not found at {PATH}/{CSV_TWITTER}. Check PATH again')\n",
    "except Exception as e:\n",
    "    print('Exception occurs while loading csv file:',e)"
   ]
  },
  {
   "cell_type": "code",
   "execution_count": 3,
   "id": "caf57e6c",
   "metadata": {
    "execution": {
     "iopub.execute_input": "2025-05-23T08:04:17.523267Z",
     "iopub.status.busy": "2025-05-23T08:04:17.522978Z",
     "iopub.status.idle": "2025-05-23T08:04:17.530674Z",
     "shell.execute_reply": "2025-05-23T08:04:17.530067Z"
    },
    "papermill": {
     "duration": 0.012882,
     "end_time": "2025-05-23T08:04:17.532232",
     "exception": false,
     "start_time": "2025-05-23T08:04:17.519350",
     "status": "completed"
    },
    "tags": []
   },
   "outputs": [],
   "source": [
    "DATA_TWITTER=DATA_TWITTER.rename(columns={'clean_comment':'clean_text'})"
   ]
  },
  {
   "cell_type": "code",
   "execution_count": 4,
   "id": "c1d7bc0a",
   "metadata": {
    "execution": {
     "iopub.execute_input": "2025-05-23T08:04:17.539079Z",
     "iopub.status.busy": "2025-05-23T08:04:17.538807Z",
     "iopub.status.idle": "2025-05-23T08:04:21.804984Z",
     "shell.execute_reply": "2025-05-23T08:04:21.804085Z"
    },
    "papermill": {
     "duration": 4.272492,
     "end_time": "2025-05-23T08:04:21.807689",
     "exception": false,
     "start_time": "2025-05-23T08:04:17.535197",
     "status": "completed"
    },
    "tags": []
   },
   "outputs": [
    {
     "name": "stderr",
     "output_type": "stream",
     "text": [
      "/tmp/ipykernel_24/3846715975.py:17: SettingWithCopyWarning: \n",
      "A value is trying to be set on a copy of a slice from a DataFrame.\n",
      "Try using .loc[row_indexer,col_indexer] = value instead\n",
      "\n",
      "See the caveats in the documentation: https://pandas.pydata.org/pandas-docs/stable/user_guide/indexing.html#returning-a-view-versus-a-copy\n",
      "  DATA_TWITTER_V1['encoded_category']= DATA_TWITTER['category'].apply(lambda c: 0 if c==-1.0 else 1 if c==0 else 2) # LabelEncoder().fit_transform(DATA_TWITTER_V1['category'])\n"
     ]
    },
    {
     "name": "stdout",
     "output_type": "stream",
     "text": [
      "                                               clean_text  category  \\\n",
      "0       when modi promised “minimum government maximum...      -1.0   \n",
      "1       talk all the nonsense and continue all the dra...       0.0   \n",
      "2       what did just say vote for modi  welcome bjp t...       1.0   \n",
      "3       asking his supporters prefix chowkidar their n...       1.0   \n",
      "4       answer who among these the most powerful world...       1.0   \n",
      "...                                                   ...       ...   \n",
      "162975  why these 456 crores paid neerav modi not reco...      -1.0   \n",
      "162976  dear rss terrorist payal gawar what about modi...      -1.0   \n",
      "162977  did you cover her interaction forum where she ...       0.0   \n",
      "162978  there big project came into india modi dream p...       0.0   \n",
      "162979  have you ever listen about like gurukul where ...       1.0   \n",
      "\n",
      "        encoded_category                                      clean_text.v1  \n",
      "0                      0  when modi promised minimum government maximum ...  \n",
      "1                      1  talk all the nonsense and continue all the dra...  \n",
      "2                      2  what did just say vote for modi welcome bjp to...  \n",
      "3                      2  asking his supporters prefix chowkidar their n...  \n",
      "4                      2  answer who among these the most powerful world...  \n",
      "...                  ...                                                ...  \n",
      "162975                 0  why these crores paid neerav modi not recovere...  \n",
      "162976                 0  dear rss terrorist payal gawar what about modi...  \n",
      "162977                 1  did you cover her interaction forum where she ...  \n",
      "162978                 1  there big project came into india modi dream p...  \n",
      "162979                 2  have you ever listen about like gurukul where ...  \n",
      "\n",
      "[162969 rows x 4 columns]\n"
     ]
    },
    {
     "name": "stderr",
     "output_type": "stream",
     "text": [
      "/tmp/ipykernel_24/3846715975.py:18: SettingWithCopyWarning: \n",
      "A value is trying to be set on a copy of a slice from a DataFrame.\n",
      "Try using .loc[row_indexer,col_indexer] = value instead\n",
      "\n",
      "See the caveats in the documentation: https://pandas.pydata.org/pandas-docs/stable/user_guide/indexing.html#returning-a-view-versus-a-copy\n",
      "  DATA_TWITTER_V1['clean_text.v1']=DATA_TWITTER['clean_text'].apply(clean_media_text)\n"
     ]
    }
   ],
   "source": [
    "from sklearn.preprocessing import LabelEncoder # encode label\n",
    "import re\n",
    "\n",
    "# remove/clean text\n",
    "def clean_media_text(text):\n",
    "    text=str(text)\n",
    "    text=text.lower()\n",
    "    text = re.sub(r'http\\S+|www\\S+|https\\S+', '', text, flags=re.MULTILINE)\n",
    "    text = re.sub(r'@\\w+', '', text) # rm mention @abcd\n",
    "    text = re.sub(r'\\bRT\\b|\\bFAV\\b', '', text) # rm RT, FAV\n",
    "    text=re.sub(r'\\d+','',text) # rm number d\n",
    "    text = re.sub(r'[^\\w\\s]', '', text) # rm not word, not space\n",
    "    text = re.sub(r'\\s+', ' ', text).strip() # rm extraneous space '  '\n",
    "    return text\n",
    "\n",
    "DATA_TWITTER_V1=DATA_TWITTER.dropna(subset=['category','clean_text'])\n",
    "DATA_TWITTER_V1['encoded_category']= DATA_TWITTER['category'].apply(lambda c: 0 if c==-1.0 else 1 if c==0 else 2) # LabelEncoder().fit_transform(DATA_TWITTER_V1['category'])\n",
    "DATA_TWITTER_V1['clean_text.v1']=DATA_TWITTER['clean_text'].apply(clean_media_text)\n",
    "\n",
    "print(DATA_TWITTER_V1)"
   ]
  },
  {
   "cell_type": "code",
   "execution_count": 5,
   "id": "f8181a0b",
   "metadata": {
    "execution": {
     "iopub.execute_input": "2025-05-23T08:04:21.815670Z",
     "iopub.status.busy": "2025-05-23T08:04:21.814853Z",
     "iopub.status.idle": "2025-05-23T08:04:21.842512Z",
     "shell.execute_reply": "2025-05-23T08:04:21.841357Z"
    },
    "papermill": {
     "duration": 0.033115,
     "end_time": "2025-05-23T08:04:21.844173",
     "exception": false,
     "start_time": "2025-05-23T08:04:21.811058",
     "status": "completed"
    },
    "tags": []
   },
   "outputs": [
    {
     "name": "stdout",
     "output_type": "stream",
     "text": [
      "                                            clean_text.v1\n",
      "0       when modi promised minimum government maximum ...\n",
      "1       talk all the nonsense and continue all the dra...\n",
      "2       what did just say vote for modi welcome bjp to...\n",
      "3       asking his supporters prefix chowkidar their n...\n",
      "4       answer who among these the most powerful world...\n",
      "...                                                   ...\n",
      "162975  why these crores paid neerav modi not recovere...\n",
      "162976  dear rss terrorist payal gawar what about modi...\n",
      "162977  did you cover her interaction forum where she ...\n",
      "162978  there big project came into india modi dream p...\n",
      "162979  have you ever listen about like gurukul where ...\n",
      "\n",
      "[162969 rows x 1 columns]\n",
      "0         0\n",
      "1         1\n",
      "2         2\n",
      "3         2\n",
      "4         2\n",
      "         ..\n",
      "162975    0\n",
      "162976    0\n",
      "162977    1\n",
      "162978    1\n",
      "162979    2\n",
      "Name: encoded_category, Length: 162969, dtype: int64\n",
      "number of features and classes: 1 3\n"
     ]
    }
   ],
   "source": [
    "DATA_TWITTER_VF=DATA_TWITTER_V1\n",
    "X=DATA_TWITTER_VF.drop(['category','encoded_category','clean_text'],axis=1) # only clean_text.v1\n",
    "Y=DATA_TWITTER_VF['encoded_category']\n",
    "NUM_FEATURES=X.shape[1]\n",
    "NUM_CLASSES=max(Y)+1 # Y starts from 0\n",
    "print(X)\n",
    "print(Y)\n",
    "print('number of features and classes:',NUM_FEATURES,NUM_CLASSES)"
   ]
  },
  {
   "cell_type": "code",
   "execution_count": 6,
   "id": "b7f0a2fa",
   "metadata": {
    "execution": {
     "iopub.execute_input": "2025-05-23T08:04:21.851621Z",
     "iopub.status.busy": "2025-05-23T08:04:21.851355Z",
     "iopub.status.idle": "2025-05-23T08:04:39.687076Z",
     "shell.execute_reply": "2025-05-23T08:04:39.686140Z"
    },
    "papermill": {
     "duration": 17.841929,
     "end_time": "2025-05-23T08:04:39.689307",
     "exception": false,
     "start_time": "2025-05-23T08:04:21.847378",
     "status": "completed"
    },
    "tags": []
   },
   "outputs": [
    {
     "name": "stdout",
     "output_type": "stream",
     "text": [
      "  (0, 5870)\t0.2142451502452711\n",
      "  (0, 8985)\t0.27281671668713314\n",
      "  (0, 7310)\t0.3049171303208342\n",
      "  (0, 2862)\t0.2902975543369383\n",
      "  (0, 1155)\t0.20867526397397115\n",
      "  (0, 4528)\t0.23414460951176863\n",
      "  (0, 9933)\t0.13790599948461477\n",
      "  (0, 2418)\t0.16746782337042812\n",
      "  (0, 8596)\t0.3579252521979858\n",
      "  (0, 4441)\t0.17867034316065344\n",
      "  (0, 2326)\t0.23499006484402601\n",
      "  (0, 772)\t0.26322185222394284\n",
      "  (0, 2867)\t0.2328712629766354\n",
      "  (0, 3463)\t0.22158360953390005\n",
      "  (0, 5224)\t0.25006067092314105\n",
      "  (0, 3466)\t0.14477267548027659\n",
      "  (0, 5323)\t0.21782238528110728\n",
      "  (0, 7237)\t0.19159043182830224\n",
      "  (0, 5413)\t0.038463009098715834\n",
      "  (1, 9590)\t0.3348313629433156\n",
      "  (1, 9579)\t0.2751308610696456\n",
      "  (1, 2535)\t0.46134836232077175\n",
      "  (1, 1761)\t0.4533260711828748\n",
      "  (1, 6508)\t0.4829123837452092\n",
      "  (1, 8897)\t0.39274505931528253\n",
      "  (1, 5413)\t0.07994421464617223\n",
      "['aadhaar' 'aadhar' 'aadmi' 'aage' 'aaj' 'aaj tak' 'aalo' 'aam' 'aane'\n",
      " 'aap']\n"
     ]
    }
   ],
   "source": [
    "from sklearn.feature_extraction.text import TfidfVectorizer # create features for text\n",
    "\n",
    "tfidf_vectorizer = TfidfVectorizer(\n",
    "    stop_words='english',  # Automatically removes common English stopwords\n",
    "    max_features=10000,     # Keep the 10000 most frequent words/ngrams\n",
    "    ngram_range=(1, 3)     # Consider individual words, two-word phrases, 3-word phrases\n",
    ")\n",
    "X_text_features = tfidf_vectorizer.fit_transform(X['clean_text.v1']) # fit: learn vocabulary score, transform: apply score for text\n",
    "print(X_text_features[:2])\n",
    "print(tfidf_vectorizer.get_feature_names_out()[:10])"
   ]
  },
  {
   "cell_type": "code",
   "execution_count": 7,
   "id": "3c65023d",
   "metadata": {
    "execution": {
     "iopub.execute_input": "2025-05-23T08:04:39.696901Z",
     "iopub.status.busy": "2025-05-23T08:04:39.696616Z",
     "iopub.status.idle": "2025-05-23T08:04:40.160995Z",
     "shell.execute_reply": "2025-05-23T08:04:40.160081Z"
    },
    "papermill": {
     "duration": 0.470392,
     "end_time": "2025-05-23T08:04:40.163011",
     "exception": false,
     "start_time": "2025-05-23T08:04:39.692619",
     "status": "completed"
    },
    "tags": []
   },
   "outputs": [
    {
     "name": "stdout",
     "output_type": "stream",
     "text": [
      "Initial class distribution: encoded_category\n",
      "2    72249\n",
      "1    55211\n",
      "0    35509\n",
      "Name: count, dtype: int64\n",
      "Class distribution in y_train before resampling:encoded_category\n",
      "2    57799\n",
      "1    44169\n",
      "0    28407\n",
      "Name: count, dtype: int64\n"
     ]
    }
   ],
   "source": [
    "from sklearn.metrics import classification_report, confusion_matrix, roc_auc_score, accuracy_score\n",
    "from imblearn.under_sampling import RandomUnderSampler\n",
    "from sklearn.model_selection import train_test_split\n",
    "\n",
    "X_train, X_test, y_train, y_test = train_test_split(\n",
    "    X_text_features, Y, test_size=0.2, random_state=42, stratify=Y\n",
    ")\n",
    "\n",
    "print(f\"Initial class distribution: {Y.value_counts()}\")\n",
    "print(f\"Class distribution in y_train before resampling:{y_train.value_counts()}\")"
   ]
  },
  {
   "cell_type": "code",
   "execution_count": 8,
   "id": "37671d16",
   "metadata": {
    "execution": {
     "iopub.execute_input": "2025-05-23T08:04:40.171409Z",
     "iopub.status.busy": "2025-05-23T08:04:40.171003Z",
     "iopub.status.idle": "2025-05-23T08:04:40.205789Z",
     "shell.execute_reply": "2025-05-23T08:04:40.204771Z"
    },
    "papermill": {
     "duration": 0.04095,
     "end_time": "2025-05-23T08:04:40.207523",
     "exception": false,
     "start_time": "2025-05-23T08:04:40.166573",
     "status": "completed"
    },
    "tags": []
   },
   "outputs": [
    {
     "name": "stdout",
     "output_type": "stream",
     "text": [
      "Resampled training class distribution: encoded_category\n",
      "0    28407\n",
      "1    28407\n",
      "2    28407\n",
      "Name: count, dtype: int64\n"
     ]
    }
   ],
   "source": [
    "X_train_resampled, y_train_resampled = RandomUnderSampler(random_state=42).fit_resample(X_train, y_train)\n",
    "print(f\"Resampled training class distribution: {y_train_resampled.value_counts()}\")"
   ]
  },
  {
   "cell_type": "code",
   "execution_count": 9,
   "id": "37f83062",
   "metadata": {
    "execution": {
     "iopub.execute_input": "2025-05-23T08:04:40.215616Z",
     "iopub.status.busy": "2025-05-23T08:04:40.214943Z",
     "iopub.status.idle": "2025-05-23T08:04:40.219065Z",
     "shell.execute_reply": "2025-05-23T08:04:40.218302Z"
    },
    "papermill": {
     "duration": 0.009651,
     "end_time": "2025-05-23T08:04:40.220665",
     "exception": false,
     "start_time": "2025-05-23T08:04:40.211014",
     "status": "completed"
    },
    "tags": []
   },
   "outputs": [],
   "source": [
    "from sklearn.linear_model import LogisticRegression # linear model\n",
    "model = LogisticRegression(\n",
    "    multi_class='multinomial', # specify softmax regression for multi-class problems\n",
    "    solver='lbfgs', # good default solver for multinomial logistic regression\n",
    "    max_iter=10000, # increase max_iter if doesn't converge\n",
    "    random_state=42,\n",
    "    C=2.5, # Regularization strength\n",
    "    verbose=True\n",
    ")"
   ]
  },
  {
   "cell_type": "code",
   "execution_count": 10,
   "id": "e35a1548",
   "metadata": {
    "execution": {
     "iopub.execute_input": "2025-05-23T08:04:40.227984Z",
     "iopub.status.busy": "2025-05-23T08:04:40.227747Z",
     "iopub.status.idle": "2025-05-23T08:05:07.634347Z",
     "shell.execute_reply": "2025-05-23T08:05:07.632390Z"
    },
    "papermill": {
     "duration": 27.417796,
     "end_time": "2025-05-23T08:05:07.641644",
     "exception": false,
     "start_time": "2025-05-23T08:04:40.223848",
     "status": "completed"
    },
    "tags": []
   },
   "outputs": [
    {
     "name": "stdout",
     "output_type": "stream",
     "text": [
      "RUNNING THE L-BFGS-B CODE\n",
      "\n",
      "           * * *\n",
      "\n",
      "Machine precision = 2.220D-16\n",
      " N =        30003     M =           10\n",
      "\n",
      "At X0         0 variables are exactly at the bounds\n",
      "\n",
      "At iterate    0    f=  9.36248D+04    |proj g|=  4.37538D+02\n"
     ]
    },
    {
     "name": "stderr",
     "output_type": "stream",
     "text": [
      " This problem is unconstrained.\n"
     ]
    },
    {
     "name": "stdout",
     "output_type": "stream",
     "text": [
      "\n",
      "At iterate   50    f=  3.96131D+04    |proj g|=  1.06161D+02\n",
      "\n",
      "At iterate  100    f=  3.88259D+04    |proj g|=  1.62138D+02\n",
      "\n",
      "At iterate  150    f=  3.87011D+04    |proj g|=  4.03471D+01\n",
      "\n",
      "At iterate  200    f=  3.86895D+04    |proj g|=  5.64432D+00\n",
      "\n",
      "At iterate  250    f=  3.86881D+04    |proj g|=  4.68503D-01\n",
      "\n",
      "At iterate  300    f=  3.86880D+04    |proj g|=  1.77424D+00\n",
      "\n",
      "           * * *\n",
      "\n",
      "Tit   = total number of iterations\n",
      "Tnf   = total number of function evaluations\n",
      "Tnint = total number of segments explored during Cauchy searches\n",
      "Skip  = number of BFGS updates skipped\n",
      "Nact  = number of active bounds at final generalized Cauchy point\n",
      "Projg = norm of the final projected gradient\n",
      "F     = final function value\n",
      "\n",
      "           * * *\n",
      "\n",
      "   N    Tit     Tnf  Tnint  Skip  Nact     Projg        F\n",
      "30003    314    358      1     0     0   3.691D-01   3.869D+04\n",
      "  F =   38687.980439160594     \n",
      "\n",
      "CONVERGENCE: REL_REDUCTION_OF_F_<=_FACTR*EPSMCH             \n"
     ]
    },
    {
     "data": {
      "text/html": [
       "<style>#sk-container-id-1 {color: black;background-color: white;}#sk-container-id-1 pre{padding: 0;}#sk-container-id-1 div.sk-toggleable {background-color: white;}#sk-container-id-1 label.sk-toggleable__label {cursor: pointer;display: block;width: 100%;margin-bottom: 0;padding: 0.3em;box-sizing: border-box;text-align: center;}#sk-container-id-1 label.sk-toggleable__label-arrow:before {content: \"▸\";float: left;margin-right: 0.25em;color: #696969;}#sk-container-id-1 label.sk-toggleable__label-arrow:hover:before {color: black;}#sk-container-id-1 div.sk-estimator:hover label.sk-toggleable__label-arrow:before {color: black;}#sk-container-id-1 div.sk-toggleable__content {max-height: 0;max-width: 0;overflow: hidden;text-align: left;background-color: #f0f8ff;}#sk-container-id-1 div.sk-toggleable__content pre {margin: 0.2em;color: black;border-radius: 0.25em;background-color: #f0f8ff;}#sk-container-id-1 input.sk-toggleable__control:checked~div.sk-toggleable__content {max-height: 200px;max-width: 100%;overflow: auto;}#sk-container-id-1 input.sk-toggleable__control:checked~label.sk-toggleable__label-arrow:before {content: \"▾\";}#sk-container-id-1 div.sk-estimator input.sk-toggleable__control:checked~label.sk-toggleable__label {background-color: #d4ebff;}#sk-container-id-1 div.sk-label input.sk-toggleable__control:checked~label.sk-toggleable__label {background-color: #d4ebff;}#sk-container-id-1 input.sk-hidden--visually {border: 0;clip: rect(1px 1px 1px 1px);clip: rect(1px, 1px, 1px, 1px);height: 1px;margin: -1px;overflow: hidden;padding: 0;position: absolute;width: 1px;}#sk-container-id-1 div.sk-estimator {font-family: monospace;background-color: #f0f8ff;border: 1px dotted black;border-radius: 0.25em;box-sizing: border-box;margin-bottom: 0.5em;}#sk-container-id-1 div.sk-estimator:hover {background-color: #d4ebff;}#sk-container-id-1 div.sk-parallel-item::after {content: \"\";width: 100%;border-bottom: 1px solid gray;flex-grow: 1;}#sk-container-id-1 div.sk-label:hover label.sk-toggleable__label {background-color: #d4ebff;}#sk-container-id-1 div.sk-serial::before {content: \"\";position: absolute;border-left: 1px solid gray;box-sizing: border-box;top: 0;bottom: 0;left: 50%;z-index: 0;}#sk-container-id-1 div.sk-serial {display: flex;flex-direction: column;align-items: center;background-color: white;padding-right: 0.2em;padding-left: 0.2em;position: relative;}#sk-container-id-1 div.sk-item {position: relative;z-index: 1;}#sk-container-id-1 div.sk-parallel {display: flex;align-items: stretch;justify-content: center;background-color: white;position: relative;}#sk-container-id-1 div.sk-item::before, #sk-container-id-1 div.sk-parallel-item::before {content: \"\";position: absolute;border-left: 1px solid gray;box-sizing: border-box;top: 0;bottom: 0;left: 50%;z-index: -1;}#sk-container-id-1 div.sk-parallel-item {display: flex;flex-direction: column;z-index: 1;position: relative;background-color: white;}#sk-container-id-1 div.sk-parallel-item:first-child::after {align-self: flex-end;width: 50%;}#sk-container-id-1 div.sk-parallel-item:last-child::after {align-self: flex-start;width: 50%;}#sk-container-id-1 div.sk-parallel-item:only-child::after {width: 0;}#sk-container-id-1 div.sk-dashed-wrapped {border: 1px dashed gray;margin: 0 0.4em 0.5em 0.4em;box-sizing: border-box;padding-bottom: 0.4em;background-color: white;}#sk-container-id-1 div.sk-label label {font-family: monospace;font-weight: bold;display: inline-block;line-height: 1.2em;}#sk-container-id-1 div.sk-label-container {text-align: center;}#sk-container-id-1 div.sk-container {/* jupyter's `normalize.less` sets `[hidden] { display: none; }` but bootstrap.min.css set `[hidden] { display: none !important; }` so we also need the `!important` here to be able to override the default hidden behavior on the sphinx rendered scikit-learn.org. See: https://github.com/scikit-learn/scikit-learn/issues/21755 */display: inline-block !important;position: relative;}#sk-container-id-1 div.sk-text-repr-fallback {display: none;}</style><div id=\"sk-container-id-1\" class=\"sk-top-container\"><div class=\"sk-text-repr-fallback\"><pre>LogisticRegression(C=2.5, max_iter=10000, multi_class=&#x27;multinomial&#x27;,\n",
       "                   random_state=42, verbose=True)</pre><b>In a Jupyter environment, please rerun this cell to show the HTML representation or trust the notebook. <br />On GitHub, the HTML representation is unable to render, please try loading this page with nbviewer.org.</b></div><div class=\"sk-container\" hidden><div class=\"sk-item\"><div class=\"sk-estimator sk-toggleable\"><input class=\"sk-toggleable__control sk-hidden--visually\" id=\"sk-estimator-id-1\" type=\"checkbox\" checked><label for=\"sk-estimator-id-1\" class=\"sk-toggleable__label sk-toggleable__label-arrow\">LogisticRegression</label><div class=\"sk-toggleable__content\"><pre>LogisticRegression(C=2.5, max_iter=10000, multi_class=&#x27;multinomial&#x27;,\n",
       "                   random_state=42, verbose=True)</pre></div></div></div></div></div>"
      ],
      "text/plain": [
       "LogisticRegression(C=2.5, max_iter=10000, multi_class='multinomial',\n",
       "                   random_state=42, verbose=True)"
      ]
     },
     "execution_count": 10,
     "metadata": {},
     "output_type": "execute_result"
    }
   ],
   "source": [
    "model.fit(X_train_resampled, y_train_resampled)"
   ]
  },
  {
   "cell_type": "code",
   "execution_count": 11,
   "id": "d248d349",
   "metadata": {
    "execution": {
     "iopub.execute_input": "2025-05-23T08:05:07.714508Z",
     "iopub.status.busy": "2025-05-23T08:05:07.713984Z",
     "iopub.status.idle": "2025-05-23T08:05:07.759820Z",
     "shell.execute_reply": "2025-05-23T08:05:07.758844Z"
    },
    "papermill": {
     "duration": 0.08573,
     "end_time": "2025-05-23T08:05:07.761666",
     "exception": false,
     "start_time": "2025-05-23T08:05:07.675936",
     "status": "completed"
    },
    "tags": []
   },
   "outputs": [
    {
     "name": "stdout",
     "output_type": "stream",
     "text": [
      "\n",
      "--- Softmax Regression Model Evaluation on Test Set ---\n",
      "\n",
      "Confusion Matrix:\n",
      "[[ 5779   739   584]\n",
      " [  337 10405   300]\n",
      " [ 1301  1751 11398]]\n",
      "\n",
      "Classification Report:\n",
      "              precision    recall  f1-score   support\n",
      "\n",
      "           0       0.78      0.81      0.80      7102\n",
      "           1       0.81      0.94      0.87     11042\n",
      "           2       0.93      0.79      0.85     14450\n",
      "\n",
      "    accuracy                           0.85     32594\n",
      "   macro avg       0.84      0.85      0.84     32594\n",
      "weighted avg       0.85      0.85      0.85     32594\n",
      "\n",
      "\n",
      "Accuracy Score: 0.8462\n"
     ]
    }
   ],
   "source": [
    "# Evaluate the Model\n",
    "y_pred=model.predict(X_test)\n",
    "\n",
    "print(\"\\n--- Softmax Regression Model Evaluation on Test Set ---\")\n",
    "print(\"\\nConfusion Matrix:\")\n",
    "print(confusion_matrix(y_test, y_pred))\n",
    "\n",
    "print(\"\\nClassification Report:\")\n",
    "print(classification_report(y_test, y_pred))\n",
    "\n",
    "print(f\"\\nAccuracy Score: {accuracy_score(y_test, y_pred):.4f}\")"
   ]
  },
  {
   "cell_type": "code",
   "execution_count": 12,
   "id": "b6a8325b",
   "metadata": {
    "execution": {
     "iopub.execute_input": "2025-05-23T08:05:07.770728Z",
     "iopub.status.busy": "2025-05-23T08:05:07.770259Z",
     "iopub.status.idle": "2025-05-23T08:05:08.179528Z",
     "shell.execute_reply": "2025-05-23T08:05:08.178459Z"
    },
    "papermill": {
     "duration": 0.418861,
     "end_time": "2025-05-23T08:05:08.184432",
     "exception": false,
     "start_time": "2025-05-23T08:05:07.765571",
     "status": "completed"
    },
    "tags": []
   },
   "outputs": [
    {
     "data": {
      "image/png": "[encoded data removed]",
      "text/plain": [
       "<Figure size 800x600 with 1 Axes>"
      ]
     },
     "metadata": {},
     "output_type": "display_data"
    },
    {
     "name": "stdout",
     "output_type": "stream",
     "text": [
      "Confusion Matrix:\n",
      " [[ 5779   739   584]\n",
      " [  337 10405   300]\n",
      " [ 1301  1751 11398]]\n"
     ]
    }
   ],
   "source": [
    "import matplotlib.pyplot as plt\n",
    "import seaborn as sns\n",
    "\n",
    "# Visualize the confusion matrix\n",
    "cm=confusion_matrix(y_test, y_pred)\n",
    "plt.figure(figsize=(8, 6))\n",
    "sns.heatmap(cm, annot=True, fmt='d', cmap='Blues', cbar=False,\n",
    "            xticklabels=DATA_TWITTER_V1['category'].unique(), yticklabels=DATA_TWITTER_V1['category'].unique())\n",
    "plt.xlabel('Predicted Label')\n",
    "plt.ylabel('True Label')\n",
    "plt.title('Confusion Matrix')\n",
    "plt.show()\n",
    "\n",
    "# Print the confusion matrix\n",
    "print(\"Confusion Matrix:\\n\", cm)"
   ]
  },
  {
   "cell_type": "code",
   "execution_count": 13,
   "id": "4a1b87cc",
   "metadata": {
    "execution": {
     "iopub.execute_input": "2025-05-23T08:05:08.211036Z",
     "iopub.status.busy": "2025-05-23T08:05:08.210366Z",
     "iopub.status.idle": "2025-05-23T08:05:08.219607Z",
     "shell.execute_reply": "2025-05-23T08:05:08.218270Z"
    },
    "papermill": {
     "duration": 0.025858,
     "end_time": "2025-05-23T08:05:08.222811",
     "exception": false,
     "start_time": "2025-05-23T08:05:08.196953",
     "status": "completed"
    },
    "tags": []
   },
   "outputs": [
    {
     "name": "stdout",
     "output_type": "stream",
     "text": [
      "\n",
      "Model successfully saved as '/kaggle/working/logistic_regression.pkl' using pickle.\n"
     ]
    }
   ],
   "source": [
    "import pickle # save trained model to file using pickle\n",
    "\n",
    "model_filename_pkl = '/kaggle/working/logistic_regression.pkl'\n",
    "with open(model_filename_pkl, 'wb') as file: # wb: write binary\n",
    "    pickle.dump(model, file)\n",
    "\n",
    "print(f\"\\nModel successfully saved as '{model_filename_pkl}' using pickle.\")"
   ]
  }
 ],
 "metadata": {
  "kaggle": {
   "accelerator": "none",
   "dataSources": [
    {
     "datasetId": 2477,
     "sourceId": 4140,
     "sourceType": "datasetVersion"
    },
    {
     "datasetId": 20672,
     "sourceId": 28131,
     "sourceType": "datasetVersion"
    },
    {
     "datasetId": 429085,
     "sourceId": 815876,
     "sourceType": "datasetVersion"
    }
   ],
   "dockerImageVersionId": 30684,
   "isGpuEnabled": false,
   "isInternetEnabled": true,
   "language": "python",
   "sourceType": "notebook"
  },
  "kernelspec": {
   "display_name": "Python 3",
   "language": "python",
   "name": "python3"
  },
  "language_info": {
   "codemirror_mode": {
    "name": "ipython",
    "version": 3
   },
   "file_extension": ".py",
   "mimetype": "text/x-python",
   "name": "python",
   "nbconvert_exporter": "python",
   "pygments_lexer": "ipython3",
   "version": "3.10.13"
  },
  "papermill": {
   "default_parameters": {},
   "duration": 55.511128,
   "end_time": "2025-05-23T08:05:09.148438",
   "environment_variables": {},
   "exception": null,
   "input_path": "__notebook__.ipynb",
   "output_path": "__notebook__.ipynb",
   "parameters": {},
   "start_time": "2025-05-23T08:04:13.637310",
   "version": "2.5.0"
  }
 },
 "nbformat": 4,
 "nbformat_minor": 5
}
